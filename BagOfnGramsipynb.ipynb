{
  "nbformat": 4,
  "nbformat_minor": 0,
  "metadata": {
    "colab": {
      "provenance": [],
      "authorship_tag": "ABX9TyN+TXEzpjRxF7rGf0gtQGEg",
      "include_colab_link": true
    },
    "kernelspec": {
      "name": "python3",
      "display_name": "Python 3"
    },
    "language_info": {
      "name": "python"
    }
  },
  "cells": [
    {
      "cell_type": "markdown",
      "metadata": {
        "id": "view-in-github",
        "colab_type": "text"
      },
      "source": [
        "<a href=\"https://colab.research.google.com/github/anchal-rai/AnchalRai/blob/main/BagOfnGramsipynb.ipynb\" target=\"_parent\"><img src=\"https://colab.research.google.com/assets/colab-badge.svg\" alt=\"Open In Colab\"/></a>"
      ]
    },
    {
      "cell_type": "code",
      "execution_count": null,
      "metadata": {
        "colab": {
          "base_uri": "https://localhost:8080/"
        },
        "id": "wlQkv8w-bYZO",
        "outputId": "52b2cbe5-6c6c-4c83-ae7d-129eb9cc7180"
      },
      "outputs": [
        {
          "output_type": "execute_result",
          "data": {
            "text/plain": [
              "{'thor': 5, 'hathodawala': 1, 'is': 2, 'looking': 4, 'for': 0, 'job': 3}"
            ]
          },
          "metadata": {},
          "execution_count": 4
        }
      ],
      "source": [
        "from sklearn.feature_extraction.text import CountVectorizer\n",
        "# count vectorizer is a class\n",
        "v=CountVectorizer()\n",
        "v.fit([\"Thor hathodawala is looking for a job\"])\n",
        "v.vocabulary_\n"
      ]
    },
    {
      "cell_type": "code",
      "source": [
        "# can give 1,2 or 1,3 or 2,3\n",
        "v=CountVectorizer(ngram_range=(2,3))\n",
        "v.fit([\"Thor hathodawala  is looking for a job\"])\n",
        "v.vocabulary_"
      ],
      "metadata": {
        "colab": {
          "base_uri": "https://localhost:8080/"
        },
        "id": "dL4P8mVwhZY7",
        "outputId": "d60b80f2-5ce0-4602-be71-36a2b53aacaf"
      },
      "execution_count": null,
      "outputs": [
        {
          "output_type": "execute_result",
          "data": {
            "text/plain": [
              "{'thor hathodawala': 7,\n",
              " 'hathodawala is': 1,\n",
              " 'is looking': 3,\n",
              " 'looking for': 5,\n",
              " 'for job': 0,\n",
              " 'thor hathodawala is': 8,\n",
              " 'hathodawala is looking': 2,\n",
              " 'is looking for': 4,\n",
              " 'looking for job': 6}"
            ]
          },
          "metadata": {},
          "execution_count": 13
        }
      ]
    },
    {
      "cell_type": "code",
      "source": [
        "v=CountVectorizer(ngram_range=(1,3))\n",
        "v.fit([\"Thor loves groot and groot loves Iron man\"])\n",
        "v.vocabulary_"
      ],
      "metadata": {
        "colab": {
          "base_uri": "https://localhost:8080/"
        },
        "id": "iwPaxzweiaFf",
        "outputId": "89ea5681-6ce4-432b-962b-54f5589704e5"
      },
      "execution_count": null,
      "outputs": [
        {
          "output_type": "execute_result",
          "data": {
            "text/plain": [
              "{'thor': 16,\n",
              " 'loves': 10,\n",
              " 'groot': 3,\n",
              " 'and': 0,\n",
              " 'iron': 8,\n",
              " 'man': 15,\n",
              " 'thor loves': 17,\n",
              " 'loves groot': 11,\n",
              " 'groot and': 4,\n",
              " 'and groot': 1,\n",
              " 'groot loves': 6,\n",
              " 'loves iron': 13,\n",
              " 'iron man': 9,\n",
              " 'thor loves groot': 18,\n",
              " 'loves groot and': 12,\n",
              " 'groot and groot': 5,\n",
              " 'and groot loves': 2,\n",
              " 'groot loves iron': 7,\n",
              " 'loves iron man': 14}"
            ]
          },
          "metadata": {},
          "execution_count": 20
        }
      ]
    },
    {
      "cell_type": "markdown",
      "source": [
        "What is a Corpus?\n",
        "\n",
        "In Natural Language Processing (NLP), a corpus refers to a collection of text data used for analysis and training language models. Think of it as a large dataset of text documents or sentences.\n",
        "\n",
        "\n",
        "Why is a Corpus Important?\n",
        "\n",
        "Training: Machine learning models in NLP need a corpus to learn patterns and relationships in language.\n",
        "Analysis: Researchers use corpora to study language usage, frequencies of words, and grammatical structures.\n",
        "Applications: Corpora are essential for tasks like text classification, sentiment analysis, and machine translation."
      ],
      "metadata": {
        "id": "Y_pwrN1_nedB"
      }
    },
    {
      "cell_type": "code",
      "source": [
        "corpus=[\"Thor ate pizza\",\n",
        "        \"Hermoine is so cool\",\n",
        "        \"Loki loves lauki\"]"
      ],
      "metadata": {
        "id": "NoPDvfJEjwgR"
      },
      "execution_count": null,
      "outputs": []
    },
    {
      "cell_type": "code",
      "source": [
        "import spacy\n",
        "# load english language model and create nlp object\n",
        "\n",
        "nlp=spacy.load(\"en_core_web_sm\")\n",
        "def process(text):\n",
        "  # remove stop words\n",
        "  doc=nlp(text)\n",
        "  filtered_tokens=[]\n",
        "  for token in doc:\n",
        "    if token.is_stop or token.is_punct:\n",
        "      continue\n",
        "    filtered_tokens.append(token.lemma_)\n",
        "  return \" \".join(filtered_tokens)"
      ],
      "metadata": {
        "id": "tBajJyWVkUGs"
      },
      "execution_count": null,
      "outputs": []
    },
    {
      "cell_type": "code",
      "source": [
        "process(\" I am a pretty and smartest girl I love myself , Mai apni favourite hu\")\n",
        "# will do lemmatization will remove stop words"
      ],
      "metadata": {
        "colab": {
          "base_uri": "https://localhost:8080/",
          "height": 36
        },
        "id": "8bBEIM9zl8Xx",
        "outputId": "6ece1370-a379-4360-f1cd-fc10716baf53"
      },
      "execution_count": null,
      "outputs": [
        {
          "output_type": "execute_result",
          "data": {
            "text/plain": [
              "'  pretty smart girl love Mai apni favourite hu'"
            ],
            "application/vnd.google.colaboratory.intrinsic+json": {
              "type": "string"
            }
          },
          "metadata": {},
          "execution_count": 25
        }
      ]
    },
    {
      "cell_type": "code",
      "source": [
        "corpus_processed=[\n",
        "    process(text) for text in corpus\n",
        "    ]\n",
        "corpus_processed"
      ],
      "metadata": {
        "colab": {
          "base_uri": "https://localhost:8080/"
        },
        "id": "9iADO7FDmEgR",
        "outputId": "92d9d28a-1c08-4918-c738-f82d5c2c347b"
      },
      "execution_count": null,
      "outputs": [
        {
          "output_type": "execute_result",
          "data": {
            "text/plain": [
              "['thor eat pizza', 'Hermoine cool', 'Loki love lauki']"
            ]
          },
          "metadata": {},
          "execution_count": 27
        }
      ]
    },
    {
      "cell_type": "code",
      "source": [
        "v=CountVectorizer(ngram_range=(1,2))\n",
        "v.fit(corpus_processed)\n",
        "v.vocabulary_"
      ],
      "metadata": {
        "colab": {
          "base_uri": "https://localhost:8080/"
        },
        "id": "BiZsCoNtmonq",
        "outputId": "bfb45841-1bc5-41ff-bd0e-30f2c0900108"
      },
      "execution_count": null,
      "outputs": [
        {
          "output_type": "execute_result",
          "data": {
            "text/plain": [
              "{'thor': 11,\n",
              " 'eat': 1,\n",
              " 'pizza': 10,\n",
              " 'thor eat': 12,\n",
              " 'eat pizza': 2,\n",
              " 'hermoine': 3,\n",
              " 'cool': 0,\n",
              " 'hermoine cool': 4,\n",
              " 'loki': 6,\n",
              " 'love': 8,\n",
              " 'lauki': 5,\n",
              " 'loki love': 7,\n",
              " 'love lauki': 9}"
            ]
          },
          "metadata": {},
          "execution_count": 29
        }
      ]
    },
    {
      "cell_type": "markdown",
      "source": [
        "# CASE STUDY FOR APPLYING BAG OF N GRAMS\n",
        "\n",
        "Steps to approach the project\n",
        "\n",
        "1. Encoding\n",
        "2. datset should be balanced (do feature Enginnering)\n",
        "3.  in nlp uses small dataset(ie. create sample and then sample dummy) not the whole datset and if it gives good accuraccy then uses whole datset\n",
        "4. tokenization, stopwords,pos,lemmatization, bag of words till pos i\n",
        "\n",
        "\n",
        "\n"
      ],
      "metadata": {
        "id": "yPEnEnSXnl5r"
      }
    },
    {
      "cell_type": "code",
      "source": [
        "# importing libraries\n",
        "#NEWS CATEGORY PROBLEM\n",
        "\n",
        "import pandas as pd\n",
        "df = pd.read_json(\"news_dataset.json\")\n",
        "print(df.shape)\n",
        "\n"
      ],
      "metadata": {
        "id": "kKDqnTiPnSh1",
        "colab": {
          "base_uri": "https://localhost:8080/"
        },
        "outputId": "f6e44a86-f56b-4f80-c126-f4e91ae05eb8"
      },
      "execution_count": null,
      "outputs": [
        {
          "output_type": "stream",
          "name": "stdout",
          "text": [
            "(12695, 2)\n"
          ]
        }
      ]
    },
    {
      "cell_type": "code",
      "source": [
        "df.category.value_counts()"
      ],
      "metadata": {
        "colab": {
          "base_uri": "https://localhost:8080/",
          "height": 241
        },
        "id": "bDl8tVvksweT",
        "outputId": "0b182ce7-2975-481c-a6ed-aa98d26b2d12"
      },
      "execution_count": null,
      "outputs": [
        {
          "output_type": "execute_result",
          "data": {
            "text/plain": [
              "category\n",
              "BUSINESS    4254\n",
              "SPORTS      4167\n",
              "CRIME       2893\n",
              "SCIENCE     1381\n",
              "Name: count, dtype: int64"
            ],
            "text/html": [
              "<div>\n",
              "<style scoped>\n",
              "    .dataframe tbody tr th:only-of-type {\n",
              "        vertical-align: middle;\n",
              "    }\n",
              "\n",
              "    .dataframe tbody tr th {\n",
              "        vertical-align: top;\n",
              "    }\n",
              "\n",
              "    .dataframe thead th {\n",
              "        text-align: right;\n",
              "    }\n",
              "</style>\n",
              "<table border=\"1\" class=\"dataframe\">\n",
              "  <thead>\n",
              "    <tr style=\"text-align: right;\">\n",
              "      <th></th>\n",
              "      <th>count</th>\n",
              "    </tr>\n",
              "    <tr>\n",
              "      <th>category</th>\n",
              "      <th></th>\n",
              "    </tr>\n",
              "  </thead>\n",
              "  <tbody>\n",
              "    <tr>\n",
              "      <th>BUSINESS</th>\n",
              "      <td>4254</td>\n",
              "    </tr>\n",
              "    <tr>\n",
              "      <th>SPORTS</th>\n",
              "      <td>4167</td>\n",
              "    </tr>\n",
              "    <tr>\n",
              "      <th>CRIME</th>\n",
              "      <td>2893</td>\n",
              "    </tr>\n",
              "    <tr>\n",
              "      <th>SCIENCE</th>\n",
              "      <td>1381</td>\n",
              "    </tr>\n",
              "  </tbody>\n",
              "</table>\n",
              "</div><br><label><b>dtype:</b> int64</label>"
            ]
          },
          "metadata": {},
          "execution_count": 31
        }
      ]
    },
    {
      "cell_type": "code",
      "source": [
        "min_samples = 1381\n",
        "df_business = df[df.category == \"BUSINESS\"].sample(min_samples,random_state=2022)\n",
        "df_sports = df[df.category == \"SPORTS\"].sample(min_samples,random_state=2022)\n",
        "df_crime = df[df.category == \"CRIME\"].sample(min_samples,random_state=2022)\n",
        "df_science=df[df.category==\"SCIENCE\"].sample(min_samples,random_state=2022)\n",
        "# random state is always given bigger than the minimum number of rows\n"
      ],
      "metadata": {
        "id": "J59A8gwltcN7"
      },
      "execution_count": null,
      "outputs": []
    },
    {
      "cell_type": "code",
      "source": [
        "df_balanced=pd.concat([df_business,df_sports,df_crime,df_science],axis=0)\n",
        "df_balanced.category.value_counts()"
      ],
      "metadata": {
        "colab": {
          "base_uri": "https://localhost:8080/",
          "height": 241
        },
        "id": "KyF2UmZwtf3K",
        "outputId": "7aee64cf-b551-4bb8-8ab7-1fefcd3f9bec"
      },
      "execution_count": null,
      "outputs": [
        {
          "output_type": "execute_result",
          "data": {
            "text/plain": [
              "category\n",
              "BUSINESS    1381\n",
              "SPORTS      1381\n",
              "CRIME       1381\n",
              "SCIENCE     1381\n",
              "Name: count, dtype: int64"
            ],
            "text/html": [
              "<div>\n",
              "<style scoped>\n",
              "    .dataframe tbody tr th:only-of-type {\n",
              "        vertical-align: middle;\n",
              "    }\n",
              "\n",
              "    .dataframe tbody tr th {\n",
              "        vertical-align: top;\n",
              "    }\n",
              "\n",
              "    .dataframe thead th {\n",
              "        text-align: right;\n",
              "    }\n",
              "</style>\n",
              "<table border=\"1\" class=\"dataframe\">\n",
              "  <thead>\n",
              "    <tr style=\"text-align: right;\">\n",
              "      <th></th>\n",
              "      <th>count</th>\n",
              "    </tr>\n",
              "    <tr>\n",
              "      <th>category</th>\n",
              "      <th></th>\n",
              "    </tr>\n",
              "  </thead>\n",
              "  <tbody>\n",
              "    <tr>\n",
              "      <th>BUSINESS</th>\n",
              "      <td>1381</td>\n",
              "    </tr>\n",
              "    <tr>\n",
              "      <th>SPORTS</th>\n",
              "      <td>1381</td>\n",
              "    </tr>\n",
              "    <tr>\n",
              "      <th>CRIME</th>\n",
              "      <td>1381</td>\n",
              "    </tr>\n",
              "    <tr>\n",
              "      <th>SCIENCE</th>\n",
              "      <td>1381</td>\n",
              "    </tr>\n",
              "  </tbody>\n",
              "</table>\n",
              "</div><br><label><b>dtype:</b> int64</label>"
            ]
          },
          "metadata": {},
          "execution_count": 38
        }
      ]
    },
    {
      "cell_type": "code",
      "source": [
        "target={'BUSINESS':0,'SPORTS':1,'CRIME':2,'SCIENCE':3}\n",
        "df_balanced[\"category_num\"]=df_balanced.category.map(target)\n",
        "df_balanced.head()"
      ],
      "metadata": {
        "colab": {
          "base_uri": "https://localhost:8080/",
          "height": 206
        },
        "id": "5KvtBDIHuXT1",
        "outputId": "2731923b-f545-4bd1-f5fc-4b78c80d1dba"
      },
      "execution_count": null,
      "outputs": [
        {
          "output_type": "execute_result",
          "data": {
            "text/plain": [
              "                                                    text  category  \\\n",
              "11967  GCC Business Leaders Remain Confident in the F...  BUSINESS   \n",
              "2912   From the Other Side; an Honest Review from Emp...  BUSINESS   \n",
              "3408   Mike McDerment, CEO of FreshBooks, Talks About...  BUSINESS   \n",
              "502    How to Market Your Business While Traveling th...  BUSINESS   \n",
              "5279   How to Leverage Intuition in Decision-making I...  BUSINESS   \n",
              "\n",
              "       category_num  \n",
              "11967             0  \n",
              "2912              0  \n",
              "3408              0  \n",
              "502               0  \n",
              "5279              0  "
            ],
            "text/html": [
              "\n",
              "  <div id=\"df-cac250fe-ceea-4b48-a961-3524aa5fa235\" class=\"colab-df-container\">\n",
              "    <div>\n",
              "<style scoped>\n",
              "    .dataframe tbody tr th:only-of-type {\n",
              "        vertical-align: middle;\n",
              "    }\n",
              "\n",
              "    .dataframe tbody tr th {\n",
              "        vertical-align: top;\n",
              "    }\n",
              "\n",
              "    .dataframe thead th {\n",
              "        text-align: right;\n",
              "    }\n",
              "</style>\n",
              "<table border=\"1\" class=\"dataframe\">\n",
              "  <thead>\n",
              "    <tr style=\"text-align: right;\">\n",
              "      <th></th>\n",
              "      <th>text</th>\n",
              "      <th>category</th>\n",
              "      <th>category_num</th>\n",
              "    </tr>\n",
              "  </thead>\n",
              "  <tbody>\n",
              "    <tr>\n",
              "      <th>11967</th>\n",
              "      <td>GCC Business Leaders Remain Confident in the F...</td>\n",
              "      <td>BUSINESS</td>\n",
              "      <td>0</td>\n",
              "    </tr>\n",
              "    <tr>\n",
              "      <th>2912</th>\n",
              "      <td>From the Other Side; an Honest Review from Emp...</td>\n",
              "      <td>BUSINESS</td>\n",
              "      <td>0</td>\n",
              "    </tr>\n",
              "    <tr>\n",
              "      <th>3408</th>\n",
              "      <td>Mike McDerment, CEO of FreshBooks, Talks About...</td>\n",
              "      <td>BUSINESS</td>\n",
              "      <td>0</td>\n",
              "    </tr>\n",
              "    <tr>\n",
              "      <th>502</th>\n",
              "      <td>How to Market Your Business While Traveling th...</td>\n",
              "      <td>BUSINESS</td>\n",
              "      <td>0</td>\n",
              "    </tr>\n",
              "    <tr>\n",
              "      <th>5279</th>\n",
              "      <td>How to Leverage Intuition in Decision-making I...</td>\n",
              "      <td>BUSINESS</td>\n",
              "      <td>0</td>\n",
              "    </tr>\n",
              "  </tbody>\n",
              "</table>\n",
              "</div>\n",
              "    <div class=\"colab-df-buttons\">\n",
              "\n",
              "  <div class=\"colab-df-container\">\n",
              "    <button class=\"colab-df-convert\" onclick=\"convertToInteractive('df-cac250fe-ceea-4b48-a961-3524aa5fa235')\"\n",
              "            title=\"Convert this dataframe to an interactive table.\"\n",
              "            style=\"display:none;\">\n",
              "\n",
              "  <svg xmlns=\"http://www.w3.org/2000/svg\" height=\"24px\" viewBox=\"0 -960 960 960\">\n",
              "    <path d=\"M120-120v-720h720v720H120Zm60-500h600v-160H180v160Zm220 220h160v-160H400v160Zm0 220h160v-160H400v160ZM180-400h160v-160H180v160Zm440 0h160v-160H620v160ZM180-180h160v-160H180v160Zm440 0h160v-160H620v160Z\"/>\n",
              "  </svg>\n",
              "    </button>\n",
              "\n",
              "  <style>\n",
              "    .colab-df-container {\n",
              "      display:flex;\n",
              "      gap: 12px;\n",
              "    }\n",
              "\n",
              "    .colab-df-convert {\n",
              "      background-color: #E8F0FE;\n",
              "      border: none;\n",
              "      border-radius: 50%;\n",
              "      cursor: pointer;\n",
              "      display: none;\n",
              "      fill: #1967D2;\n",
              "      height: 32px;\n",
              "      padding: 0 0 0 0;\n",
              "      width: 32px;\n",
              "    }\n",
              "\n",
              "    .colab-df-convert:hover {\n",
              "      background-color: #E2EBFA;\n",
              "      box-shadow: 0px 1px 2px rgba(60, 64, 67, 0.3), 0px 1px 3px 1px rgba(60, 64, 67, 0.15);\n",
              "      fill: #174EA6;\n",
              "    }\n",
              "\n",
              "    .colab-df-buttons div {\n",
              "      margin-bottom: 4px;\n",
              "    }\n",
              "\n",
              "    [theme=dark] .colab-df-convert {\n",
              "      background-color: #3B4455;\n",
              "      fill: #D2E3FC;\n",
              "    }\n",
              "\n",
              "    [theme=dark] .colab-df-convert:hover {\n",
              "      background-color: #434B5C;\n",
              "      box-shadow: 0px 1px 3px 1px rgba(0, 0, 0, 0.15);\n",
              "      filter: drop-shadow(0px 1px 2px rgba(0, 0, 0, 0.3));\n",
              "      fill: #FFFFFF;\n",
              "    }\n",
              "  </style>\n",
              "\n",
              "    <script>\n",
              "      const buttonEl =\n",
              "        document.querySelector('#df-cac250fe-ceea-4b48-a961-3524aa5fa235 button.colab-df-convert');\n",
              "      buttonEl.style.display =\n",
              "        google.colab.kernel.accessAllowed ? 'block' : 'none';\n",
              "\n",
              "      async function convertToInteractive(key) {\n",
              "        const element = document.querySelector('#df-cac250fe-ceea-4b48-a961-3524aa5fa235');\n",
              "        const dataTable =\n",
              "          await google.colab.kernel.invokeFunction('convertToInteractive',\n",
              "                                                    [key], {});\n",
              "        if (!dataTable) return;\n",
              "\n",
              "        const docLinkHtml = 'Like what you see? Visit the ' +\n",
              "          '<a target=\"_blank\" href=https://colab.research.google.com/notebooks/data_table.ipynb>data table notebook</a>'\n",
              "          + ' to learn more about interactive tables.';\n",
              "        element.innerHTML = '';\n",
              "        dataTable['output_type'] = 'display_data';\n",
              "        await google.colab.output.renderOutput(dataTable, element);\n",
              "        const docLink = document.createElement('div');\n",
              "        docLink.innerHTML = docLinkHtml;\n",
              "        element.appendChild(docLink);\n",
              "      }\n",
              "    </script>\n",
              "  </div>\n",
              "\n",
              "\n",
              "<div id=\"df-44aa6bbe-9238-4053-9a3a-382adb760a02\">\n",
              "  <button class=\"colab-df-quickchart\" onclick=\"quickchart('df-44aa6bbe-9238-4053-9a3a-382adb760a02')\"\n",
              "            title=\"Suggest charts\"\n",
              "            style=\"display:none;\">\n",
              "\n",
              "<svg xmlns=\"http://www.w3.org/2000/svg\" height=\"24px\"viewBox=\"0 0 24 24\"\n",
              "     width=\"24px\">\n",
              "    <g>\n",
              "        <path d=\"M19 3H5c-1.1 0-2 .9-2 2v14c0 1.1.9 2 2 2h14c1.1 0 2-.9 2-2V5c0-1.1-.9-2-2-2zM9 17H7v-7h2v7zm4 0h-2V7h2v10zm4 0h-2v-4h2v4z\"/>\n",
              "    </g>\n",
              "</svg>\n",
              "  </button>\n",
              "\n",
              "<style>\n",
              "  .colab-df-quickchart {\n",
              "      --bg-color: #E8F0FE;\n",
              "      --fill-color: #1967D2;\n",
              "      --hover-bg-color: #E2EBFA;\n",
              "      --hover-fill-color: #174EA6;\n",
              "      --disabled-fill-color: #AAA;\n",
              "      --disabled-bg-color: #DDD;\n",
              "  }\n",
              "\n",
              "  [theme=dark] .colab-df-quickchart {\n",
              "      --bg-color: #3B4455;\n",
              "      --fill-color: #D2E3FC;\n",
              "      --hover-bg-color: #434B5C;\n",
              "      --hover-fill-color: #FFFFFF;\n",
              "      --disabled-bg-color: #3B4455;\n",
              "      --disabled-fill-color: #666;\n",
              "  }\n",
              "\n",
              "  .colab-df-quickchart {\n",
              "    background-color: var(--bg-color);\n",
              "    border: none;\n",
              "    border-radius: 50%;\n",
              "    cursor: pointer;\n",
              "    display: none;\n",
              "    fill: var(--fill-color);\n",
              "    height: 32px;\n",
              "    padding: 0;\n",
              "    width: 32px;\n",
              "  }\n",
              "\n",
              "  .colab-df-quickchart:hover {\n",
              "    background-color: var(--hover-bg-color);\n",
              "    box-shadow: 0 1px 2px rgba(60, 64, 67, 0.3), 0 1px 3px 1px rgba(60, 64, 67, 0.15);\n",
              "    fill: var(--button-hover-fill-color);\n",
              "  }\n",
              "\n",
              "  .colab-df-quickchart-complete:disabled,\n",
              "  .colab-df-quickchart-complete:disabled:hover {\n",
              "    background-color: var(--disabled-bg-color);\n",
              "    fill: var(--disabled-fill-color);\n",
              "    box-shadow: none;\n",
              "  }\n",
              "\n",
              "  .colab-df-spinner {\n",
              "    border: 2px solid var(--fill-color);\n",
              "    border-color: transparent;\n",
              "    border-bottom-color: var(--fill-color);\n",
              "    animation:\n",
              "      spin 1s steps(1) infinite;\n",
              "  }\n",
              "\n",
              "  @keyframes spin {\n",
              "    0% {\n",
              "      border-color: transparent;\n",
              "      border-bottom-color: var(--fill-color);\n",
              "      border-left-color: var(--fill-color);\n",
              "    }\n",
              "    20% {\n",
              "      border-color: transparent;\n",
              "      border-left-color: var(--fill-color);\n",
              "      border-top-color: var(--fill-color);\n",
              "    }\n",
              "    30% {\n",
              "      border-color: transparent;\n",
              "      border-left-color: var(--fill-color);\n",
              "      border-top-color: var(--fill-color);\n",
              "      border-right-color: var(--fill-color);\n",
              "    }\n",
              "    40% {\n",
              "      border-color: transparent;\n",
              "      border-right-color: var(--fill-color);\n",
              "      border-top-color: var(--fill-color);\n",
              "    }\n",
              "    60% {\n",
              "      border-color: transparent;\n",
              "      border-right-color: var(--fill-color);\n",
              "    }\n",
              "    80% {\n",
              "      border-color: transparent;\n",
              "      border-right-color: var(--fill-color);\n",
              "      border-bottom-color: var(--fill-color);\n",
              "    }\n",
              "    90% {\n",
              "      border-color: transparent;\n",
              "      border-bottom-color: var(--fill-color);\n",
              "    }\n",
              "  }\n",
              "</style>\n",
              "\n",
              "  <script>\n",
              "    async function quickchart(key) {\n",
              "      const quickchartButtonEl =\n",
              "        document.querySelector('#' + key + ' button');\n",
              "      quickchartButtonEl.disabled = true;  // To prevent multiple clicks.\n",
              "      quickchartButtonEl.classList.add('colab-df-spinner');\n",
              "      try {\n",
              "        const charts = await google.colab.kernel.invokeFunction(\n",
              "            'suggestCharts', [key], {});\n",
              "      } catch (error) {\n",
              "        console.error('Error during call to suggestCharts:', error);\n",
              "      }\n",
              "      quickchartButtonEl.classList.remove('colab-df-spinner');\n",
              "      quickchartButtonEl.classList.add('colab-df-quickchart-complete');\n",
              "    }\n",
              "    (() => {\n",
              "      let quickchartButtonEl =\n",
              "        document.querySelector('#df-44aa6bbe-9238-4053-9a3a-382adb760a02 button');\n",
              "      quickchartButtonEl.style.display =\n",
              "        google.colab.kernel.accessAllowed ? 'block' : 'none';\n",
              "    })();\n",
              "  </script>\n",
              "</div>\n",
              "\n",
              "    </div>\n",
              "  </div>\n"
            ],
            "application/vnd.google.colaboratory.intrinsic+json": {
              "type": "dataframe",
              "variable_name": "df_balanced",
              "summary": "{\n  \"name\": \"df_balanced\",\n  \"rows\": 5524,\n  \"fields\": [\n    {\n      \"column\": \"text\",\n      \"properties\": {\n        \"dtype\": \"string\",\n        \"num_unique_values\": 5523,\n        \"samples\": [\n          \"The 'LeBron James' Kid Is Back We missed you.\",\n          \"Here's How Rats End Up In Toilet Bowls Fun fact: Rats can hold their breath for up to three minutes.\",\n          \"Washington Wizards' Dynamic Backcourt Duo Of John Wall And Bradley Beal Is Making Waves \"\n        ],\n        \"semantic_type\": \"\",\n        \"description\": \"\"\n      }\n    },\n    {\n      \"column\": \"category\",\n      \"properties\": {\n        \"dtype\": \"category\",\n        \"num_unique_values\": 4,\n        \"samples\": [\n          \"SPORTS\",\n          \"SCIENCE\",\n          \"BUSINESS\"\n        ],\n        \"semantic_type\": \"\",\n        \"description\": \"\"\n      }\n    },\n    {\n      \"column\": \"category_num\",\n      \"properties\": {\n        \"dtype\": \"number\",\n        \"std\": 1,\n        \"min\": 0,\n        \"max\": 3,\n        \"num_unique_values\": 4,\n        \"samples\": [\n          1,\n          3,\n          0\n        ],\n        \"semantic_type\": \"\",\n        \"description\": \"\"\n      }\n    }\n  ]\n}"
            }
          },
          "metadata": {},
          "execution_count": 39
        }
      ]
    },
    {
      "cell_type": "markdown",
      "source": [
        "#BUILD A MODEL  PREPROCESSING THE DATA USING PIPELINE\n",
        "\n",
        "An NLP Pipeline is a series of steps used to process text data for use in machine learning models. It typically involves stages such as:\n",
        "\n",
        "Text Cleaning: Removing unwanted characters, HTML tags, punctuation, extra spaces.\n",
        "Tokenization: Breaking down text into individual words or phrases (tokens).\n",
        "Stop Word Removal: Removing common words (like \"the,\" \"a,\" \"is\") that don't contribute much to meaning.\n",
        "Stemming or Lemmatization: Reducing words to their base forms (e.g., \"running\" to \"run\").\n",
        "Feature Extraction: Transforming text into numerical representations (like Bag-of-Words, TF-IDF) for use in models."
      ],
      "metadata": {
        "id": "EqvEqRDIviJz"
      }
    },
    {
      "cell_type": "code",
      "source": [
        "from sklearn.model_selection import train_test_split\n",
        "X_train,X_test,y_train,y_test=train_test_split(\n",
        "    df_balanced.text,\n",
        "    df_balanced.category_num,\n",
        "    test_size=0.2,    # Changed 'test_Size' to 'test_size' 20% data of sample will go to test data\n",
        "    random_state=2022,\n",
        "    stratify=df_balanced.category_num\n",
        "\n",
        ")"
      ],
      "metadata": {
        "id": "xiX0L347vLy6"
      },
      "execution_count": null,
      "outputs": []
    },
    {
      "cell_type": "code",
      "source": [
        "print(X_train.shape)\n",
        "X_train.head()"
      ],
      "metadata": {
        "colab": {
          "base_uri": "https://localhost:8080/",
          "height": 259
        },
        "id": "kW-m1-nwwRYv",
        "outputId": "eb263b1f-3370-454e-f537-dae1fbba4ec4"
      },
      "execution_count": null,
      "outputs": [
        {
          "output_type": "stream",
          "name": "stdout",
          "text": [
            "(4419,)\n"
          ]
        },
        {
          "output_type": "execute_result",
          "data": {
            "text/plain": [
              "7589     Ovulating Women Prefer Images of Penetration O...\n",
              "10442    Scientists Discover Spooky Influence On Baby N...\n",
              "8792     Olympic Race Walker Steps Up To Propose To His...\n",
              "1733     Beloved Bipedal Bear Named Pedals Believed Kil...\n",
              "2526     Elizabeth Smart Gave Birth To Baby Girl, Fathe...\n",
              "Name: text, dtype: object"
            ],
            "text/html": [
              "<div>\n",
              "<style scoped>\n",
              "    .dataframe tbody tr th:only-of-type {\n",
              "        vertical-align: middle;\n",
              "    }\n",
              "\n",
              "    .dataframe tbody tr th {\n",
              "        vertical-align: top;\n",
              "    }\n",
              "\n",
              "    .dataframe thead th {\n",
              "        text-align: right;\n",
              "    }\n",
              "</style>\n",
              "<table border=\"1\" class=\"dataframe\">\n",
              "  <thead>\n",
              "    <tr style=\"text-align: right;\">\n",
              "      <th></th>\n",
              "      <th>text</th>\n",
              "    </tr>\n",
              "  </thead>\n",
              "  <tbody>\n",
              "    <tr>\n",
              "      <th>7589</th>\n",
              "      <td>Ovulating Women Prefer Images of Penetration O...</td>\n",
              "    </tr>\n",
              "    <tr>\n",
              "      <th>10442</th>\n",
              "      <td>Scientists Discover Spooky Influence On Baby N...</td>\n",
              "    </tr>\n",
              "    <tr>\n",
              "      <th>8792</th>\n",
              "      <td>Olympic Race Walker Steps Up To Propose To His...</td>\n",
              "    </tr>\n",
              "    <tr>\n",
              "      <th>1733</th>\n",
              "      <td>Beloved Bipedal Bear Named Pedals Believed Kil...</td>\n",
              "    </tr>\n",
              "    <tr>\n",
              "      <th>2526</th>\n",
              "      <td>Elizabeth Smart Gave Birth To Baby Girl, Fathe...</td>\n",
              "    </tr>\n",
              "  </tbody>\n",
              "</table>\n",
              "</div><br><label><b>dtype:</b> object</label>"
            ]
          },
          "metadata": {},
          "execution_count": 43
        }
      ]
    },
    {
      "cell_type": "code",
      "source": [
        "y_train.value_counts()"
      ],
      "metadata": {
        "colab": {
          "base_uri": "https://localhost:8080/",
          "height": 241
        },
        "id": "VJK3T0TDw0k9",
        "outputId": "3a868e4c-11e4-4faf-d30d-d5524b5ce9f6"
      },
      "execution_count": null,
      "outputs": [
        {
          "output_type": "execute_result",
          "data": {
            "text/plain": [
              "category_num\n",
              "3    1105\n",
              "2    1105\n",
              "0    1105\n",
              "1    1104\n",
              "Name: count, dtype: int64"
            ],
            "text/html": [
              "<div>\n",
              "<style scoped>\n",
              "    .dataframe tbody tr th:only-of-type {\n",
              "        vertical-align: middle;\n",
              "    }\n",
              "\n",
              "    .dataframe tbody tr th {\n",
              "        vertical-align: top;\n",
              "    }\n",
              "\n",
              "    .dataframe thead th {\n",
              "        text-align: right;\n",
              "    }\n",
              "</style>\n",
              "<table border=\"1\" class=\"dataframe\">\n",
              "  <thead>\n",
              "    <tr style=\"text-align: right;\">\n",
              "      <th></th>\n",
              "      <th>count</th>\n",
              "    </tr>\n",
              "    <tr>\n",
              "      <th>category_num</th>\n",
              "      <th></th>\n",
              "    </tr>\n",
              "  </thead>\n",
              "  <tbody>\n",
              "    <tr>\n",
              "      <th>3</th>\n",
              "      <td>1105</td>\n",
              "    </tr>\n",
              "    <tr>\n",
              "      <th>2</th>\n",
              "      <td>1105</td>\n",
              "    </tr>\n",
              "    <tr>\n",
              "      <th>0</th>\n",
              "      <td>1105</td>\n",
              "    </tr>\n",
              "    <tr>\n",
              "      <th>1</th>\n",
              "      <td>1104</td>\n",
              "    </tr>\n",
              "  </tbody>\n",
              "</table>\n",
              "</div><br><label><b>dtype:</b> int64</label>"
            ]
          },
          "metadata": {},
          "execution_count": 44
        }
      ]
    },
    {
      "cell_type": "code",
      "source": [
        "from sklearn.naive_bayes import MultinomialNB\n",
        "from sklearn.pipeline import Pipeline\n",
        "from sklearn.metrics import classification_report\n",
        "# create a pipeline object\n",
        "\n",
        "\n",
        "clf = Pipeline([('vectorizer_bow', CountVectorizer(ngram_range=(1, 1))),\n",
        "                ('Multi NB', MultinomialNB())])  # Corrected class name and pipeline structure\n",
        "\n",
        "# 2. fit with X_traiin and y_train\n",
        "\n",
        "clf.fit(X_train,y_train)\n",
        "# 3 get the predictions for X_test\n",
        "y_pred=clf.predict(X_test)\n",
        "# 4 print the classfication report\n",
        "print(classification_report(y_test,y_pred))"
      ],
      "metadata": {
        "colab": {
          "base_uri": "https://localhost:8080/"
        },
        "id": "PRL88lyYxbc_",
        "outputId": "dd9efbeb-2c2f-43e7-911b-552d5fbcab12"
      },
      "execution_count": null,
      "outputs": [
        {
          "output_type": "stream",
          "name": "stdout",
          "text": [
            "              precision    recall  f1-score   support\n",
            "\n",
            "           0       0.86      0.87      0.86       292\n",
            "           1       0.91      0.86      0.88       301\n",
            "           2       0.82      0.91      0.86       250\n",
            "           3       0.88      0.84      0.86       262\n",
            "\n",
            "    accuracy                           0.87      1105\n",
            "   macro avg       0.87      0.87      0.87      1105\n",
            "weighted avg       0.87      0.87      0.87      1105\n",
            "\n"
          ]
        }
      ]
    },
    {
      "cell_type": "code",
      "source": [
        "df_balanced['preprocessed_txt']=df_balanced.text.apply(process)\n",
        "df_balanced.head()"
      ],
      "metadata": {
        "colab": {
          "base_uri": "https://localhost:8080/",
          "height": 293
        },
        "id": "pk1mvgoZyrUx",
        "outputId": "930fca42-db9d-4581-ed08-db271b781561"
      },
      "execution_count": null,
      "outputs": [
        {
          "output_type": "execute_result",
          "data": {
            "text/plain": [
              "                                                    text  category  \\\n",
              "11967  GCC Business Leaders Remain Confident in the F...  BUSINESS   \n",
              "2912   From the Other Side; an Honest Review from Emp...  BUSINESS   \n",
              "3408   Mike McDerment, CEO of FreshBooks, Talks About...  BUSINESS   \n",
              "502    How to Market Your Business While Traveling th...  BUSINESS   \n",
              "5279   How to Leverage Intuition in Decision-making I...  BUSINESS   \n",
              "\n",
              "       category_num                                   preprocessed_txt  \n",
              "11967             0  GCC Business Leaders remain Confident Face Reg...  \n",
              "2912              0  Honest Review employee wake morning love impor...  \n",
              "3408              0  Mike McDerment ceo FreshBooks Talks give build...  \n",
              "502               0  market business travel World recently amazing ...  \n",
              "5279              0  Leverage intuition decision making feel safe r...  "
            ],
            "text/html": [
              "\n",
              "  <div id=\"df-b541fcb1-3582-40b6-b111-430044f2178a\" class=\"colab-df-container\">\n",
              "    <div>\n",
              "<style scoped>\n",
              "    .dataframe tbody tr th:only-of-type {\n",
              "        vertical-align: middle;\n",
              "    }\n",
              "\n",
              "    .dataframe tbody tr th {\n",
              "        vertical-align: top;\n",
              "    }\n",
              "\n",
              "    .dataframe thead th {\n",
              "        text-align: right;\n",
              "    }\n",
              "</style>\n",
              "<table border=\"1\" class=\"dataframe\">\n",
              "  <thead>\n",
              "    <tr style=\"text-align: right;\">\n",
              "      <th></th>\n",
              "      <th>text</th>\n",
              "      <th>category</th>\n",
              "      <th>category_num</th>\n",
              "      <th>preprocessed_txt</th>\n",
              "    </tr>\n",
              "  </thead>\n",
              "  <tbody>\n",
              "    <tr>\n",
              "      <th>11967</th>\n",
              "      <td>GCC Business Leaders Remain Confident in the F...</td>\n",
              "      <td>BUSINESS</td>\n",
              "      <td>0</td>\n",
              "      <td>GCC Business Leaders remain Confident Face Reg...</td>\n",
              "    </tr>\n",
              "    <tr>\n",
              "      <th>2912</th>\n",
              "      <td>From the Other Side; an Honest Review from Emp...</td>\n",
              "      <td>BUSINESS</td>\n",
              "      <td>0</td>\n",
              "      <td>Honest Review employee wake morning love impor...</td>\n",
              "    </tr>\n",
              "    <tr>\n",
              "      <th>3408</th>\n",
              "      <td>Mike McDerment, CEO of FreshBooks, Talks About...</td>\n",
              "      <td>BUSINESS</td>\n",
              "      <td>0</td>\n",
              "      <td>Mike McDerment ceo FreshBooks Talks give build...</td>\n",
              "    </tr>\n",
              "    <tr>\n",
              "      <th>502</th>\n",
              "      <td>How to Market Your Business While Traveling th...</td>\n",
              "      <td>BUSINESS</td>\n",
              "      <td>0</td>\n",
              "      <td>market business travel World recently amazing ...</td>\n",
              "    </tr>\n",
              "    <tr>\n",
              "      <th>5279</th>\n",
              "      <td>How to Leverage Intuition in Decision-making I...</td>\n",
              "      <td>BUSINESS</td>\n",
              "      <td>0</td>\n",
              "      <td>Leverage intuition decision making feel safe r...</td>\n",
              "    </tr>\n",
              "  </tbody>\n",
              "</table>\n",
              "</div>\n",
              "    <div class=\"colab-df-buttons\">\n",
              "\n",
              "  <div class=\"colab-df-container\">\n",
              "    <button class=\"colab-df-convert\" onclick=\"convertToInteractive('df-b541fcb1-3582-40b6-b111-430044f2178a')\"\n",
              "            title=\"Convert this dataframe to an interactive table.\"\n",
              "            style=\"display:none;\">\n",
              "\n",
              "  <svg xmlns=\"http://www.w3.org/2000/svg\" height=\"24px\" viewBox=\"0 -960 960 960\">\n",
              "    <path d=\"M120-120v-720h720v720H120Zm60-500h600v-160H180v160Zm220 220h160v-160H400v160Zm0 220h160v-160H400v160ZM180-400h160v-160H180v160Zm440 0h160v-160H620v160ZM180-180h160v-160H180v160Zm440 0h160v-160H620v160Z\"/>\n",
              "  </svg>\n",
              "    </button>\n",
              "\n",
              "  <style>\n",
              "    .colab-df-container {\n",
              "      display:flex;\n",
              "      gap: 12px;\n",
              "    }\n",
              "\n",
              "    .colab-df-convert {\n",
              "      background-color: #E8F0FE;\n",
              "      border: none;\n",
              "      border-radius: 50%;\n",
              "      cursor: pointer;\n",
              "      display: none;\n",
              "      fill: #1967D2;\n",
              "      height: 32px;\n",
              "      padding: 0 0 0 0;\n",
              "      width: 32px;\n",
              "    }\n",
              "\n",
              "    .colab-df-convert:hover {\n",
              "      background-color: #E2EBFA;\n",
              "      box-shadow: 0px 1px 2px rgba(60, 64, 67, 0.3), 0px 1px 3px 1px rgba(60, 64, 67, 0.15);\n",
              "      fill: #174EA6;\n",
              "    }\n",
              "\n",
              "    .colab-df-buttons div {\n",
              "      margin-bottom: 4px;\n",
              "    }\n",
              "\n",
              "    [theme=dark] .colab-df-convert {\n",
              "      background-color: #3B4455;\n",
              "      fill: #D2E3FC;\n",
              "    }\n",
              "\n",
              "    [theme=dark] .colab-df-convert:hover {\n",
              "      background-color: #434B5C;\n",
              "      box-shadow: 0px 1px 3px 1px rgba(0, 0, 0, 0.15);\n",
              "      filter: drop-shadow(0px 1px 2px rgba(0, 0, 0, 0.3));\n",
              "      fill: #FFFFFF;\n",
              "    }\n",
              "  </style>\n",
              "\n",
              "    <script>\n",
              "      const buttonEl =\n",
              "        document.querySelector('#df-b541fcb1-3582-40b6-b111-430044f2178a button.colab-df-convert');\n",
              "      buttonEl.style.display =\n",
              "        google.colab.kernel.accessAllowed ? 'block' : 'none';\n",
              "\n",
              "      async function convertToInteractive(key) {\n",
              "        const element = document.querySelector('#df-b541fcb1-3582-40b6-b111-430044f2178a');\n",
              "        const dataTable =\n",
              "          await google.colab.kernel.invokeFunction('convertToInteractive',\n",
              "                                                    [key], {});\n",
              "        if (!dataTable) return;\n",
              "\n",
              "        const docLinkHtml = 'Like what you see? Visit the ' +\n",
              "          '<a target=\"_blank\" href=https://colab.research.google.com/notebooks/data_table.ipynb>data table notebook</a>'\n",
              "          + ' to learn more about interactive tables.';\n",
              "        element.innerHTML = '';\n",
              "        dataTable['output_type'] = 'display_data';\n",
              "        await google.colab.output.renderOutput(dataTable, element);\n",
              "        const docLink = document.createElement('div');\n",
              "        docLink.innerHTML = docLinkHtml;\n",
              "        element.appendChild(docLink);\n",
              "      }\n",
              "    </script>\n",
              "  </div>\n",
              "\n",
              "\n",
              "<div id=\"df-bcc0f28a-fb01-43f7-bb17-9cd9cd150b23\">\n",
              "  <button class=\"colab-df-quickchart\" onclick=\"quickchart('df-bcc0f28a-fb01-43f7-bb17-9cd9cd150b23')\"\n",
              "            title=\"Suggest charts\"\n",
              "            style=\"display:none;\">\n",
              "\n",
              "<svg xmlns=\"http://www.w3.org/2000/svg\" height=\"24px\"viewBox=\"0 0 24 24\"\n",
              "     width=\"24px\">\n",
              "    <g>\n",
              "        <path d=\"M19 3H5c-1.1 0-2 .9-2 2v14c0 1.1.9 2 2 2h14c1.1 0 2-.9 2-2V5c0-1.1-.9-2-2-2zM9 17H7v-7h2v7zm4 0h-2V7h2v10zm4 0h-2v-4h2v4z\"/>\n",
              "    </g>\n",
              "</svg>\n",
              "  </button>\n",
              "\n",
              "<style>\n",
              "  .colab-df-quickchart {\n",
              "      --bg-color: #E8F0FE;\n",
              "      --fill-color: #1967D2;\n",
              "      --hover-bg-color: #E2EBFA;\n",
              "      --hover-fill-color: #174EA6;\n",
              "      --disabled-fill-color: #AAA;\n",
              "      --disabled-bg-color: #DDD;\n",
              "  }\n",
              "\n",
              "  [theme=dark] .colab-df-quickchart {\n",
              "      --bg-color: #3B4455;\n",
              "      --fill-color: #D2E3FC;\n",
              "      --hover-bg-color: #434B5C;\n",
              "      --hover-fill-color: #FFFFFF;\n",
              "      --disabled-bg-color: #3B4455;\n",
              "      --disabled-fill-color: #666;\n",
              "  }\n",
              "\n",
              "  .colab-df-quickchart {\n",
              "    background-color: var(--bg-color);\n",
              "    border: none;\n",
              "    border-radius: 50%;\n",
              "    cursor: pointer;\n",
              "    display: none;\n",
              "    fill: var(--fill-color);\n",
              "    height: 32px;\n",
              "    padding: 0;\n",
              "    width: 32px;\n",
              "  }\n",
              "\n",
              "  .colab-df-quickchart:hover {\n",
              "    background-color: var(--hover-bg-color);\n",
              "    box-shadow: 0 1px 2px rgba(60, 64, 67, 0.3), 0 1px 3px 1px rgba(60, 64, 67, 0.15);\n",
              "    fill: var(--button-hover-fill-color);\n",
              "  }\n",
              "\n",
              "  .colab-df-quickchart-complete:disabled,\n",
              "  .colab-df-quickchart-complete:disabled:hover {\n",
              "    background-color: var(--disabled-bg-color);\n",
              "    fill: var(--disabled-fill-color);\n",
              "    box-shadow: none;\n",
              "  }\n",
              "\n",
              "  .colab-df-spinner {\n",
              "    border: 2px solid var(--fill-color);\n",
              "    border-color: transparent;\n",
              "    border-bottom-color: var(--fill-color);\n",
              "    animation:\n",
              "      spin 1s steps(1) infinite;\n",
              "  }\n",
              "\n",
              "  @keyframes spin {\n",
              "    0% {\n",
              "      border-color: transparent;\n",
              "      border-bottom-color: var(--fill-color);\n",
              "      border-left-color: var(--fill-color);\n",
              "    }\n",
              "    20% {\n",
              "      border-color: transparent;\n",
              "      border-left-color: var(--fill-color);\n",
              "      border-top-color: var(--fill-color);\n",
              "    }\n",
              "    30% {\n",
              "      border-color: transparent;\n",
              "      border-left-color: var(--fill-color);\n",
              "      border-top-color: var(--fill-color);\n",
              "      border-right-color: var(--fill-color);\n",
              "    }\n",
              "    40% {\n",
              "      border-color: transparent;\n",
              "      border-right-color: var(--fill-color);\n",
              "      border-top-color: var(--fill-color);\n",
              "    }\n",
              "    60% {\n",
              "      border-color: transparent;\n",
              "      border-right-color: var(--fill-color);\n",
              "    }\n",
              "    80% {\n",
              "      border-color: transparent;\n",
              "      border-right-color: var(--fill-color);\n",
              "      border-bottom-color: var(--fill-color);\n",
              "    }\n",
              "    90% {\n",
              "      border-color: transparent;\n",
              "      border-bottom-color: var(--fill-color);\n",
              "    }\n",
              "  }\n",
              "</style>\n",
              "\n",
              "  <script>\n",
              "    async function quickchart(key) {\n",
              "      const quickchartButtonEl =\n",
              "        document.querySelector('#' + key + ' button');\n",
              "      quickchartButtonEl.disabled = true;  // To prevent multiple clicks.\n",
              "      quickchartButtonEl.classList.add('colab-df-spinner');\n",
              "      try {\n",
              "        const charts = await google.colab.kernel.invokeFunction(\n",
              "            'suggestCharts', [key], {});\n",
              "      } catch (error) {\n",
              "        console.error('Error during call to suggestCharts:', error);\n",
              "      }\n",
              "      quickchartButtonEl.classList.remove('colab-df-spinner');\n",
              "      quickchartButtonEl.classList.add('colab-df-quickchart-complete');\n",
              "    }\n",
              "    (() => {\n",
              "      let quickchartButtonEl =\n",
              "        document.querySelector('#df-bcc0f28a-fb01-43f7-bb17-9cd9cd150b23 button');\n",
              "      quickchartButtonEl.style.display =\n",
              "        google.colab.kernel.accessAllowed ? 'block' : 'none';\n",
              "    })();\n",
              "  </script>\n",
              "</div>\n",
              "\n",
              "    </div>\n",
              "  </div>\n"
            ],
            "application/vnd.google.colaboratory.intrinsic+json": {
              "type": "dataframe",
              "variable_name": "df_balanced",
              "summary": "{\n  \"name\": \"df_balanced\",\n  \"rows\": 5524,\n  \"fields\": [\n    {\n      \"column\": \"text\",\n      \"properties\": {\n        \"dtype\": \"string\",\n        \"num_unique_values\": 5523,\n        \"samples\": [\n          \"The 'LeBron James' Kid Is Back We missed you.\",\n          \"Here's How Rats End Up In Toilet Bowls Fun fact: Rats can hold their breath for up to three minutes.\",\n          \"Washington Wizards' Dynamic Backcourt Duo Of John Wall And Bradley Beal Is Making Waves \"\n        ],\n        \"semantic_type\": \"\",\n        \"description\": \"\"\n      }\n    },\n    {\n      \"column\": \"category\",\n      \"properties\": {\n        \"dtype\": \"category\",\n        \"num_unique_values\": 4,\n        \"samples\": [\n          \"SPORTS\",\n          \"SCIENCE\",\n          \"BUSINESS\"\n        ],\n        \"semantic_type\": \"\",\n        \"description\": \"\"\n      }\n    },\n    {\n      \"column\": \"category_num\",\n      \"properties\": {\n        \"dtype\": \"number\",\n        \"std\": 1,\n        \"min\": 0,\n        \"max\": 3,\n        \"num_unique_values\": 4,\n        \"samples\": [\n          1,\n          3,\n          0\n        ],\n        \"semantic_type\": \"\",\n        \"description\": \"\"\n      }\n    },\n    {\n      \"column\": \"preprocessed_txt\",\n      \"properties\": {\n        \"dtype\": \"string\",\n        \"num_unique_values\": 5523,\n        \"samples\": [\n          \"LeBron James Kid miss\",\n          \"rat End Toilet Bowls Fun fact rat hold breath minute\",\n          \"Washington Wizards Dynamic Backcourt Duo John Wall Bradley Beal make wave\"\n        ],\n        \"semantic_type\": \"\",\n        \"description\": \"\"\n      }\n    }\n  ]\n}"
            }
          },
          "metadata": {},
          "execution_count": 52
        }
      ]
    },
    {
      "cell_type": "code",
      "source": [
        "X_train,X_test,y_train,y_test = train_test_split(df_balanced['preprocessed_txt'],df_balanced.category_num,test_size=0.2)\n",
        "\n",
        "clf = Pipeline([\n",
        "                ('vectorizer_bow',CountVectorizer(ngram_range=(1,2))),\n",
        "\n",
        "                ('Multi NB',MultinomialNB())\n",
        "])\n",
        "clf.fit(X_train,y_train)\n",
        "y_pred = clf.predict(X_test)\n",
        "# 4 print the classfication report\n",
        "print(classification_report(y_test,y_pred))"
      ],
      "metadata": {
        "colab": {
          "base_uri": "https://localhost:8080/"
        },
        "id": "cR8eYfMJ0dOJ",
        "outputId": "23b6482c-f7a4-41af-f6a1-eeef9d78de6a"
      },
      "execution_count": null,
      "outputs": [
        {
          "output_type": "stream",
          "name": "stdout",
          "text": [
            "              precision    recall  f1-score   support\n",
            "\n",
            "           0       0.83      0.88      0.86       292\n",
            "           1       0.92      0.87      0.89       301\n",
            "           2       0.82      0.92      0.86       250\n",
            "           3       0.92      0.81      0.86       262\n",
            "\n",
            "    accuracy                           0.87      1105\n",
            "   macro avg       0.87      0.87      0.87      1105\n",
            "weighted avg       0.87      0.87      0.87      1105\n",
            "\n"
          ]
        }
      ]
    },
    {
      "cell_type": "code",
      "source": [
        "from sklearn.naive_bayes import MultinomialNB\n",
        "from sklearn.pipeline import Pipeline\n",
        "from sklearn.metrics import classification_report\n",
        "# create a pipeline object\n",
        "\n",
        "# clf=Pipeline([('vectorizer_bow',CountVectorizer(ngram_range=(1,1)))('Multi NB',MultinomialNB())])\n",
        "clf = Pipeline([('vectorizer_bow', CountVectorizer(ngram_range=(1, 3))),\n",
        "                ('Multi NB', MultinomialNB())])  # Corrected class name and pipeline structure\n",
        "\n",
        "# 2. fit with X_traiin and y_train\n",
        "\n",
        "clf.fit(X_train,y_train)\n",
        "# 3 get the predictions for X_test\n",
        "y_pred=clf.predict(X_test)\n",
        "# 4 print the classfication report\n",
        "print(classification_report(y_test,y_pred))"
      ],
      "metadata": {
        "colab": {
          "base_uri": "https://localhost:8080/"
        },
        "id": "dsNkVk1Vzixv",
        "outputId": "96dc7a02-18f5-4c50-a7e8-f1a0dd5dc9ce"
      },
      "execution_count": null,
      "outputs": [
        {
          "output_type": "stream",
          "name": "stdout",
          "text": [
            "              precision    recall  f1-score   support\n",
            "\n",
            "           0       0.81      0.92      0.86       274\n",
            "           1       0.93      0.87      0.90       271\n",
            "           2       0.89      0.91      0.90       279\n",
            "           3       0.92      0.85      0.88       281\n",
            "\n",
            "    accuracy                           0.89      1105\n",
            "   macro avg       0.89      0.89      0.89      1105\n",
            "weighted avg       0.89      0.89      0.89      1105\n",
            "\n"
          ]
        }
      ]
    },
    {
      "cell_type": "markdown",
      "source": [
        "# CONCLUSION\n",
        "\n",
        "1. data shuld be balanced and uncertanity free\n",
        "2. after preprocessing bi and tri is  has highest accurracy\n"
      ],
      "metadata": {
        "id": "EIy342Vv1FDZ"
      }
    },
    {
      "cell_type": "code",
      "source": [
        "from sklearn.metrics import confusion_matrix\n",
        "confusion_matrix(y_test,y_pred)"
      ],
      "metadata": {
        "colab": {
          "base_uri": "https://localhost:8080/"
        },
        "id": "mQAAeiKk0VWv",
        "outputId": "b1c5c8dc-cfbc-4ca5-a9ae-7fa83a691624"
      },
      "execution_count": null,
      "outputs": [
        {
          "output_type": "execute_result",
          "data": {
            "text/plain": [
              "array([[251,   6,   9,   8],\n",
              "       [ 15, 237,  13,   6],\n",
              "       [ 13,   6, 254,   6],\n",
              "       [ 30,   5,   8, 238]])"
            ]
          },
          "metadata": {},
          "execution_count": 62
        }
      ]
    },
    {
      "cell_type": "code",
      "source": [
        "from matplotlib import pyplot as plt\n",
        "import seaborn as sns\n",
        "plt.figure(figsize=(10,7))\n",
        "sns.heatmap(confusion_matrix(y_test,y_pred),annot=True,fmt='d')\n",
        "plt.xlabel('Predicted')\n",
        "plt.ylabel('Actual')\n",
        "plt.show()"
      ],
      "metadata": {
        "colab": {
          "base_uri": "https://localhost:8080/",
          "height": 619
        },
        "id": "wE_kcT6P1bIV",
        "outputId": "f7c73041-7d0c-48ca-9a78-a1659cf0de4b"
      },
      "execution_count": null,
      "outputs": [
        {
          "output_type": "display_data",
          "data": {
            "text/plain": [
              "<Figure size 1000x700 with 2 Axes>"
            ],
            "image/png": "[encoded data removed]"
          },
          "metadata": {}
        }
      ]
    },
    {
      "cell_type": "code",
      "source": [],
      "metadata": {
        "id": "rCqRThEH1nYM"
      },
      "execution_count": null,
      "outputs": []
    }
  ]
}